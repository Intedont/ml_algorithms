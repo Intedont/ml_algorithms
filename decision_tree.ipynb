{
 "cells": [
  {
   "cell_type": "code",
   "execution_count": 1,
   "id": "1a0662bd",
   "metadata": {},
   "outputs": [],
   "source": [
    "import numpy as np"
   ]
  },
  {
   "cell_type": "code",
   "execution_count": 2,
   "id": "3bec0790",
   "metadata": {},
   "outputs": [],
   "source": [
    "import numpy as np\n",
    "import treelib\n",
    "\n",
    "\n",
    "class Node:\n",
    "    def __init__(self, depth, expected_class=None):\n",
    "        self.split_feature = None\n",
    "        self.split_value = None\n",
    "        self.left = None\n",
    "        self.right = None\n",
    "        self.expected_class = expected_class\n",
    "        self.depth = depth\n",
    "        \n",
    "    def is_leaf(self):\n",
    "        return self.expected_class is not None\n",
    "        \n",
    "    def predict(self, row):\n",
    "        if(self.is_leaf()):\n",
    "            return self.expected_class\n",
    "        else:\n",
    "            if(row[self.split_feature] < self.split_value):\n",
    "                return self.left.predict(row)\n",
    "            else:\n",
    "                return self.right.predict(row)\n",
    "\n",
    "    def stop_criterion(self, max_depth):\n",
    "        return self.depth >= max_depth\n",
    "\n",
    "                \n",
    "    def iterate(self, x, y, idxs, classes, max_depth):\n",
    "        if(self.stop_criterion(max_depth)): \n",
    "            self.expected_class = self.answer(y, idxs, classes)\n",
    "        else:\n",
    "            l_idxs , r_idxs = self.split_node(x, y, idxs, classes)\n",
    "            if(len(l_idxs) == 0 or len(r_idxs) == 0): #если произошло разделение на пустой узел, то превращаем разделяемый узел в лист\n",
    "                self.expected_class = self.answer(y, idxs, classes)\n",
    "            else:\n",
    "                #print('left:')\n",
    "                #for i in l_idxs:\n",
    "                #    print(y[i], end=' ')\n",
    "                #print(end='\\n')\n",
    "\n",
    "                #print('right:')\n",
    "                #for i in r_idxs:\n",
    "                #    print(y[i], end=' ')\n",
    "                #print(end='\\n')\n",
    "\n",
    "                self.left = Node(self.depth + 1)\n",
    "                self.right = Node(self.depth + 1)\n",
    "                self.left.iterate(x, y, l_idxs, classes, max_depth)\n",
    "                self.right.iterate(x, y, r_idxs, classes, max_depth)\n",
    "                \n",
    "                \n",
    "    def split_node(self, x, y, idxs, classes):\n",
    "        \n",
    "        max_delta_impurity = -1 #максимизируемая величина\n",
    "        node_impurity = self.missclassification_error(idxs, y, classes) #информативность текущего узла, если объявить его листом\n",
    "        best_left_idxs, best_right_idxs = 0, 0\n",
    "        \n",
    "        #смотрим все возможные сплиты и выбираем лучший\n",
    "        for feature in range(x.shape[1]):\n",
    "            for value in x[:, feature]:\n",
    "                left_idxs, right_idxs = self.get_split(x, idxs, feature, value)\n",
    "                left_impurity = self.missclassification_error(left_idxs, y, classes)\n",
    "                right_impurity = self.missclassification_error(right_idxs, y, classes)\n",
    "                \n",
    "                #считаем разность между информативностью узла и информативностью разбиения\n",
    "                delta_impurity = node_impurity - (len(left_idxs)/len(idxs))*left_impurity - (len(right_idxs)/len(idxs))*right_impurity\n",
    "                \n",
    "                if(delta_impurity > max_delta_impurity):\n",
    "                    max_delta_impurity = delta_impurity\n",
    "                    self.split_feature = feature\n",
    "                    self.split_value = value\n",
    "                    best_left_idxs = left_idxs\n",
    "                    best_right_idxs = right_idxs\n",
    "                \n",
    "        return best_left_idxs, best_right_idxs \n",
    "                \n",
    "    def get_split(self, x, idxs, feature, value):\n",
    "        left_idx = []\n",
    "        right_idx = []\n",
    "        for idx in idxs:\n",
    "            if(x[idx][feature] < value):\n",
    "                left_idx.append(idx)\n",
    "            else:\n",
    "                right_idx.append(idx)\n",
    "        return left_idx, right_idx\n",
    "        \n",
    "    #критерий информативности missclassification error\n",
    "    def missclassification_error(self, idxs, y, classes):\n",
    "        if(len(idxs) != 0):\n",
    "            p = []\n",
    "            for cl in classes:\n",
    "                num = 0\n",
    "                for idx in idxs:\n",
    "                    if(y[idx] == cl):\n",
    "                        num += 1\n",
    "                p.append(1 - (num / len(idxs)))\n",
    "            return min(p)\n",
    "        else: return 0\n",
    "\n",
    "    #в качестве ответа листа берем самый частый класс \n",
    "    def answer(self, y, idxs, classes):\n",
    "        ans = dict.fromkeys(classes, 0)\n",
    "        for cl in classes:\n",
    "            for idx in idxs:\n",
    "                if(y[idx] == cl):\n",
    "                    ans[cl] += 1\n",
    "            \n",
    "        #print(max(ans, key=ans.get))\n",
    "        return max(ans, key=ans.get)\n",
    "    \n",
    "    def visualize(self, tree, parent, direction):\n",
    "        if(self.is_leaf()):\n",
    "            tree.create_node(f'class = {self.expected_class}', parent + direction, parent=parent)\n",
    "        else:\n",
    "            tree.create_node(f'feature {self.split_feature} < {self.split_value}', parent + direction, parent=parent)\n",
    "            self.left.visualize(tree, parent+direction, 'l')\n",
    "            self.right.visualize(tree, parent+direction, 'r')\n",
    "\n",
    "                \n",
    "class Tree:\n",
    "    def __init__(self):\n",
    "        self.root_node = Node(1)\n",
    "        \n",
    "    def fit(self, x_train: np.array, y_train: np.array, max_depth):\n",
    "        classes = np.unique(y_train) #список классов в тренировочном датасете\n",
    "        idxs = list(range(0, len(y_train))) #список индексов объектов датасета (в корневой узел идут все индексы)\n",
    "        self.root_node.iterate(x_train, y_train, idxs, classes, max_depth) #запускаем обучение из корневого узла\n",
    "        \n",
    "    def predict(self, x_test):\n",
    "        answer = []\n",
    "        for row in x_test:\n",
    "            answer.append(self.root_node.predict(row))\n",
    "        return np.array(answer)\n",
    "            \n",
    "    def visualize(self):\n",
    "        tree = treelib.Tree()\n",
    "        tree.create_node('start', '')\n",
    "        self.root_node.visualize(tree, '', 's')\n",
    "        tree.show()"
   ]
  },
  {
   "cell_type": "code",
   "execution_count": 3,
   "id": "e38f4c20",
   "metadata": {},
   "outputs": [],
   "source": [
    "from sklearn import datasets\n",
    "from sklearn.model_selection import train_test_split\n",
    "\n",
    "iris = datasets.load_iris()\n",
    "X = iris.data\n",
    "y = iris.target\n",
    "\n",
    "X_train, X_test, y_train, y_test = train_test_split(X, y, test_size=0.3, random_state=42)"
   ]
  },
  {
   "cell_type": "code",
   "execution_count": 4,
   "id": "3ca6005a",
   "metadata": {},
   "outputs": [],
   "source": [
    "tr = Tree()\n",
    "tr.fit(X_train, y_train, 5)"
   ]
  },
  {
   "cell_type": "code",
   "execution_count": 5,
   "id": "bd85655a",
   "metadata": {},
   "outputs": [
    {
     "name": "stdout",
     "output_type": "stream",
     "text": [
      "start\n",
      "└── feature 2 < 3.7\n",
      "    ├── feature 2 < 3.0\n",
      "    │   ├── feature 0 < 5.5\n",
      "    │   │   ├── class = 0\n",
      "    │   │   └── class = 0\n",
      "    │   └── feature 0 < 5.5\n",
      "    │       ├── class = 1\n",
      "    │       └── class = 1\n",
      "    └── feature 3 < 1.6\n",
      "        ├── class = 2\n",
      "        └── feature 2 < 5.0\n",
      "            ├── class = 2\n",
      "            └── feature 0 < 5.5\n",
      "                ├── class = 1\n",
      "                └── class = 1\n",
      "\n"
     ]
    }
   ],
   "source": [
    "tr.visualize()"
   ]
  },
  {
   "cell_type": "code",
   "execution_count": 6,
   "id": "4d73633b",
   "metadata": {},
   "outputs": [],
   "source": [
    "predictions = tr.predict(X_test)"
   ]
  },
  {
   "cell_type": "code",
   "execution_count": 7,
   "id": "0d440d4c",
   "metadata": {},
   "outputs": [
    {
     "data": {
      "text/plain": [
       "numpy.ndarray"
      ]
     },
     "execution_count": 7,
     "metadata": {},
     "output_type": "execute_result"
    }
   ],
   "source": [
    "type(predictions)"
   ]
  },
  {
   "cell_type": "code",
   "execution_count": 8,
   "id": "6ce6a89f",
   "metadata": {},
   "outputs": [
    {
     "name": "stdout",
     "output_type": "stream",
     "text": [
      "F1: 0.9484126984126983\n"
     ]
    }
   ],
   "source": [
    "from sklearn.metrics import precision_score, recall_score, f1_score\n",
    "\n",
    "print('F1: {}'.format(f1_score(predictions, y_test, labels=[0,1,2], average='macro')))"
   ]
  },
  {
   "cell_type": "code",
   "execution_count": 9,
   "id": "6a76a242",
   "metadata": {},
   "outputs": [
    {
     "data": {
      "text/plain": [
       "DecisionTreeClassifier(max_depth=5)"
      ]
     },
     "execution_count": 9,
     "metadata": {},
     "output_type": "execute_result"
    }
   ],
   "source": [
    "from sklearn.tree import DecisionTreeClassifier\n",
    "\n",
    "tr_2 = DecisionTreeClassifier(max_depth=5)\n",
    "tr_2.fit(X_train, y_train)"
   ]
  },
  {
   "cell_type": "code",
   "execution_count": 10,
   "id": "56f52b43",
   "metadata": {},
   "outputs": [
    {
     "name": "stdout",
     "output_type": "stream",
     "text": [
      "F1: 1.0\n"
     ]
    }
   ],
   "source": [
    "preds = tr_2.predict(X_test)\n",
    "print('F1: {}'.format(f1_score(preds, y_test, labels=[0,1,2], average='macro')))"
   ]
  }
 ],
 "metadata": {
  "kernelspec": {
   "display_name": "Python 3 (ipykernel)",
   "language": "python",
   "name": "python3"
  },
  "language_info": {
   "codemirror_mode": {
    "name": "ipython",
    "version": 3
   },
   "file_extension": ".py",
   "mimetype": "text/x-python",
   "name": "python",
   "nbconvert_exporter": "python",
   "pygments_lexer": "ipython3",
   "version": "3.10.4"
  }
 },
 "nbformat": 4,
 "nbformat_minor": 5
}
